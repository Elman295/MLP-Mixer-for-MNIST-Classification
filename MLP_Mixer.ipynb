{
  "nbformat": 4,
  "nbformat_minor": 0,
  "metadata": {
    "colab": {
      "provenance": [],
      "authorship_tag": "ABX9TyPL6VXedIhWSCbsput3x8Fd",
      "include_colab_link": true
    },
    "kernelspec": {
      "name": "python3",
      "display_name": "Python 3"
    },
    "language_info": {
      "name": "python"
    }
  },
  "cells": [
    {
      "cell_type": "markdown",
      "metadata": {
        "id": "view-in-github",
        "colab_type": "text"
      },
      "source": [
        "<a href=\"https://colab.research.google.com/github/Elman295/MLP-Mixer-for-MNIST-Classification/blob/main/MLP_Mixer.ipynb\" target=\"_parent\"><img src=\"https://colab.research.google.com/assets/colab-badge.svg\" alt=\"Open In Colab\"/></a>"
      ]
    },
    {
      "cell_type": "code",
      "execution_count": 99,
      "metadata": {
        "id": "v7hdXjERC2PM"
      },
      "outputs": [],
      "source": [
        "import numpy as np\n",
        "import matplotlib.pyplot as plt\n",
        "from sklearn.metrics import confusion_matrix, ConfusionMatrixDisplay\n",
        "\n",
        "import torch\n",
        "import torchvision\n",
        "from torchvision import datasets, transforms\n",
        "from torch.utils.data import Dataset, DataLoader\n",
        "from torch import nn"
      ]
    },
    {
      "cell_type": "markdown",
      "source": [
        "#`Data`"
      ],
      "metadata": {
        "id": "TWr9cNZHDUFb"
      }
    },
    {
      "cell_type": "code",
      "source": [
        "train_data = datasets.MNIST(\n",
        "    root = \"data\",\n",
        "    train = True,\n",
        "    download = True,\n",
        "    transform = transforms.ToTensor()\n",
        ")\n",
        "\n",
        "test_data = datasets.MNIST(\n",
        "    root = \"data\",\n",
        "    train = False,\n",
        "    download = True,\n",
        "    transform = transforms.ToTensor()\n",
        ")"
      ],
      "metadata": {
        "colab": {
          "base_uri": "https://localhost:8080/"
        },
        "id": "5X-cx2FQDTeq",
        "outputId": "b70261be-3183-4f1e-aa59-4f1d753b2a4a"
      },
      "execution_count": null,
      "outputs": [
        {
          "output_type": "stream",
          "name": "stdout",
          "text": [
            "Downloading http://yann.lecun.com/exdb/mnist/train-images-idx3-ubyte.gz\n",
            "Failed to download (trying next):\n",
            "HTTP Error 403: Forbidden\n",
            "\n",
            "Downloading https://ossci-datasets.s3.amazonaws.com/mnist/train-images-idx3-ubyte.gz\n",
            "Downloading https://ossci-datasets.s3.amazonaws.com/mnist/train-images-idx3-ubyte.gz to data/MNIST/raw/train-images-idx3-ubyte.gz\n"
          ]
        },
        {
          "output_type": "stream",
          "name": "stderr",
          "text": [
            "100%|██████████| 9912422/9912422 [00:00<00:00, 50712909.76it/s]\n"
          ]
        },
        {
          "output_type": "stream",
          "name": "stdout",
          "text": [
            "Extracting data/MNIST/raw/train-images-idx3-ubyte.gz to data/MNIST/raw\n",
            "\n",
            "Downloading http://yann.lecun.com/exdb/mnist/train-labels-idx1-ubyte.gz\n",
            "Failed to download (trying next):\n",
            "HTTP Error 403: Forbidden\n",
            "\n",
            "Downloading https://ossci-datasets.s3.amazonaws.com/mnist/train-labels-idx1-ubyte.gz\n",
            "Downloading https://ossci-datasets.s3.amazonaws.com/mnist/train-labels-idx1-ubyte.gz to data/MNIST/raw/train-labels-idx1-ubyte.gz\n"
          ]
        },
        {
          "output_type": "stream",
          "name": "stderr",
          "text": [
            "100%|██████████| 28881/28881 [00:00<00:00, 2391528.35it/s]"
          ]
        },
        {
          "output_type": "stream",
          "name": "stdout",
          "text": [
            "Extracting data/MNIST/raw/train-labels-idx1-ubyte.gz to data/MNIST/raw\n",
            "\n",
            "Downloading http://yann.lecun.com/exdb/mnist/t10k-images-idx3-ubyte.gz\n"
          ]
        },
        {
          "output_type": "stream",
          "name": "stderr",
          "text": [
            "\n"
          ]
        },
        {
          "output_type": "stream",
          "name": "stdout",
          "text": [
            "Failed to download (trying next):\n",
            "HTTP Error 403: Forbidden\n",
            "\n",
            "Downloading https://ossci-datasets.s3.amazonaws.com/mnist/t10k-images-idx3-ubyte.gz\n",
            "Downloading https://ossci-datasets.s3.amazonaws.com/mnist/t10k-images-idx3-ubyte.gz to data/MNIST/raw/t10k-images-idx3-ubyte.gz\n"
          ]
        },
        {
          "output_type": "stream",
          "name": "stderr",
          "text": [
            "100%|██████████| 1648877/1648877 [00:00<00:00, 14498085.82it/s]\n"
          ]
        },
        {
          "output_type": "stream",
          "name": "stdout",
          "text": [
            "Extracting data/MNIST/raw/t10k-images-idx3-ubyte.gz to data/MNIST/raw\n",
            "\n",
            "Downloading http://yann.lecun.com/exdb/mnist/t10k-labels-idx1-ubyte.gz\n",
            "Failed to download (trying next):\n",
            "HTTP Error 403: Forbidden\n",
            "\n",
            "Downloading https://ossci-datasets.s3.amazonaws.com/mnist/t10k-labels-idx1-ubyte.gz\n",
            "Downloading https://ossci-datasets.s3.amazonaws.com/mnist/t10k-labels-idx1-ubyte.gz to data/MNIST/raw/t10k-labels-idx1-ubyte.gz\n"
          ]
        },
        {
          "output_type": "stream",
          "name": "stderr",
          "text": [
            "100%|██████████| 4542/4542 [00:00<00:00, 1680978.45it/s]"
          ]
        },
        {
          "output_type": "stream",
          "name": "stdout",
          "text": [
            "Extracting data/MNIST/raw/t10k-labels-idx1-ubyte.gz to data/MNIST/raw\n",
            "\n"
          ]
        },
        {
          "output_type": "stream",
          "name": "stderr",
          "text": [
            "\n"
          ]
        }
      ]
    },
    {
      "cell_type": "code",
      "source": [
        "x,y = train_data[0]\n",
        "print(x.shape)\n",
        "print(y)"
      ],
      "metadata": {
        "colab": {
          "base_uri": "https://localhost:8080/"
        },
        "id": "RitVkl15DoDl",
        "outputId": "2adddc44-0c5e-4275-cbc5-fd830ca32997"
      },
      "execution_count": null,
      "outputs": [
        {
          "output_type": "stream",
          "name": "stdout",
          "text": [
            "torch.Size([1, 28, 28])\n",
            "5\n"
          ]
        }
      ]
    },
    {
      "cell_type": "code",
      "source": [
        "def patchify(image, size = 4):\n",
        "\n",
        "  c,w,h = image.shape\n",
        "  num_patch = w // size\n",
        "  # print(num_patch)\n",
        "  image = image.view(c,num_patch,size,num_patch,size)\n",
        "  image = image.permute(0,1,3,2,4)\n",
        "  image = image.reshape(c,num_patch**2,size,size)\n",
        "  return image"
      ],
      "metadata": {
        "id": "dyVklbaCDtCI"
      },
      "execution_count": null,
      "outputs": []
    },
    {
      "cell_type": "code",
      "source": [
        "plt.imshow(x.view(28,28))\n",
        "plt.show()"
      ],
      "metadata": {
        "colab": {
          "base_uri": "https://localhost:8080/",
          "height": 430
        },
        "id": "pY0hIE6YESuN",
        "outputId": "3956c6d3-8092-43b5-c35e-d4735655c923"
      },
      "execution_count": null,
      "outputs": [
        {
          "output_type": "display_data",
          "data": {
            "text/plain": [
              "<Figure size 640x480 with 1 Axes>"
            ],
            "image/png": "[encoded data removed]"
          },
          "metadata": {}
        }
      ]
    },
    {
      "cell_type": "code",
      "source": [
        "x_p = patchify(x)\n",
        "print(x_p.shape)"
      ],
      "metadata": {
        "colab": {
          "base_uri": "https://localhost:8080/"
        },
        "id": "Rr0fB4uGEYS1",
        "outputId": "fed4d4f8-9364-4da8-ebdd-db7faf89e17f"
      },
      "execution_count": null,
      "outputs": [
        {
          "output_type": "stream",
          "name": "stdout",
          "text": [
            "torch.Size([1, 49, 4, 4])\n"
          ]
        }
      ]
    },
    {
      "cell_type": "code",
      "source": [
        "for i in range(49):\n",
        "  plt.subplot(7,7,i+1)\n",
        "  plt.axis(\"off\")\n",
        "  plt.imshow(x_p[:,i,:,:].reshape(4,4))\n",
        "plt.show()\n"
      ],
      "metadata": {
        "colab": {
          "base_uri": "https://localhost:8080/",
          "height": 406
        },
        "id": "ZH-8oDmiEdhR",
        "outputId": "7358a34e-dbcb-4e98-bd08-782221e8759c"
      },
      "execution_count": null,
      "outputs": [
        {
          "output_type": "display_data",
          "data": {
            "text/plain": [
              "<Figure size 640x480 with 49 Axes>"
            ],
            "image/png": "[encoded data removed]"
          },
          "metadata": {}
        }
      ]
    },
    {
      "cell_type": "code",
      "source": [
        "class DS(Dataset):\n",
        "\n",
        "  def __init__(self,data):\n",
        "    self.data = data\n",
        "\n",
        "  def __len__(self):\n",
        "    return len(self.data)\n",
        "\n",
        "  def __getitem__(self, idx):\n",
        "\n",
        "    image,label = self.data[idx]\n",
        "    patches = patchify(image)\n",
        "    return patches, label"
      ],
      "metadata": {
        "id": "rtyw1btjE7vf"
      },
      "execution_count": null,
      "outputs": []
    },
    {
      "cell_type": "code",
      "source": [
        "train_ds = DS(train_data)\n",
        "test_ds = DS(test_data)"
      ],
      "metadata": {
        "id": "OzYxS5IGIDXr"
      },
      "execution_count": null,
      "outputs": []
    },
    {
      "cell_type": "code",
      "source": [
        "train_dl = DataLoader(dataset = train_ds, batch_size = 64, shuffle = True)\n",
        "test_dl = DataLoader(dataset = test_ds, batch_size = 64, shuffle = False)"
      ],
      "metadata": {
        "id": "9CFWdUeAIJRP"
      },
      "execution_count": null,
      "outputs": []
    },
    {
      "cell_type": "code",
      "source": [
        "x,y = next(iter(train_dl))\n",
        "print(x.shape)\n",
        "print(y.shape)"
      ],
      "metadata": {
        "colab": {
          "base_uri": "https://localhost:8080/"
        },
        "id": "9A6uH9TBIVHh",
        "outputId": "a1968ceb-34aa-43a2-983d-4701196707b1"
      },
      "execution_count": null,
      "outputs": [
        {
          "output_type": "stream",
          "name": "stdout",
          "text": [
            "torch.Size([64, 1, 49, 4, 4])\n",
            "torch.Size([64])\n"
          ]
        }
      ]
    },
    {
      "cell_type": "markdown",
      "source": [
        "#`MLP-Mixer`"
      ],
      "metadata": {
        "id": "PzVVpXG6JMpd"
      }
    },
    {
      "cell_type": "code",
      "source": [
        "class MLP_Mixer_Block(nn.Module):\n",
        "\n",
        "  def __init__(self):\n",
        "    super(MLP_Mixer_Block, self).__init__()\n",
        "    # self.per_path_FC = nn.Linear(16,120)\n",
        "    self.MLP_2 = nn.Sequential(\n",
        "        nn.Linear(120,64),\n",
        "        nn.GELU(),\n",
        "        nn.Linear(64,120)\n",
        "    )\n",
        "\n",
        "    self.MLP_1 = nn.Sequential(\n",
        "        nn.Linear(49,120),\n",
        "        nn.GELU(),\n",
        "        nn.Linear(120,49)\n",
        "    )\n",
        "\n",
        "    self.layer_norm_1 = nn.LayerNorm(120)\n",
        "    self.layer_norm_2 = nn.LayerNorm(120)\n",
        "\n",
        "  def forward(self, x):\n",
        "\n",
        "    x = x.view(-1,49,120)\n",
        "    # x = self.per_path_FC(x)\n",
        "    x_norm_1 = self.layer_norm_1(x)\n",
        "    x_T_1 = x_norm_1.permute(0,2,1)\n",
        "    x_MLP_1 = self.MLP_1(x_T_1)\n",
        "    x_T_2 = x_MLP_1.permute(0,2,1) + x\n",
        "    x_norm_2 = self.layer_norm_2(x_T_2)\n",
        "    x_MLP_2 = self.MLP_2(x_norm_2) + x_T_2\n",
        "\n",
        "    return x_MLP_2\n"
      ],
      "metadata": {
        "id": "qR7fkexhJLc4"
      },
      "execution_count": null,
      "outputs": []
    },
    {
      "cell_type": "code",
      "source": [
        "x = torch.rand(size = (16,49,120))\n",
        "model = MLP_Mixer_Block()\n",
        "y = model(x)\n",
        "print(y.shape)"
      ],
      "metadata": {
        "colab": {
          "base_uri": "https://localhost:8080/"
        },
        "id": "KU7WPS1iKgeP",
        "outputId": "7f0ade3b-c1e0-41ef-d564-b600a40fff43"
      },
      "execution_count": null,
      "outputs": [
        {
          "output_type": "stream",
          "name": "stdout",
          "text": [
            "torch.Size([16, 49, 120])\n"
          ]
        }
      ]
    },
    {
      "cell_type": "code",
      "source": [
        "class MLP_Mixer(nn.Module):\n",
        "\n",
        "  def __init__(self, num_blocks = 4):\n",
        "    super(MLP_Mixer, self).__init__()\n",
        "    self.per_path_FC = nn.Linear(16,120)\n",
        "\n",
        "    self.MLP_Mixer = nn.Sequential(*[MLP_Mixer_Block() for i in range(num_blocks)])\n",
        "    self.GAVG = nn.AvgPool1d(4)\n",
        "    self.head = nn.Linear(49*30,10)\n",
        "\n",
        "\n",
        "  def forward(self, x):\n",
        "\n",
        "    x = x.view(-1,49,16)\n",
        "    x = self.per_path_FC(x)\n",
        "    f = self.MLP_Mixer(x)\n",
        "    f = self.GAVG(f)\n",
        "    f = f.view(-1,49*30)\n",
        "    f = self.head(f)\n",
        "    return f\n"
      ],
      "metadata": {
        "id": "24WTIBcBKnWC"
      },
      "execution_count": null,
      "outputs": []
    },
    {
      "cell_type": "code",
      "source": [
        "model_main = MLP_Mixer()\n",
        "x = torch.rand(size = (16,49,4,4))\n",
        "y = model_main(x)\n",
        "print(y.shape)"
      ],
      "metadata": {
        "colab": {
          "base_uri": "https://localhost:8080/"
        },
        "id": "4WQ5a71TNXfW",
        "outputId": "e88c433a-6533-4fbe-f568-f518a4418793"
      },
      "execution_count": null,
      "outputs": [
        {
          "output_type": "stream",
          "name": "stdout",
          "text": [
            "torch.Size([16, 10])\n"
          ]
        }
      ]
    },
    {
      "cell_type": "code",
      "source": [
        "model_main"
      ],
      "metadata": {
        "colab": {
          "base_uri": "https://localhost:8080/"
        },
        "id": "S9YKoTklNaaH",
        "outputId": "84047022-a513-4fd8-946e-40387d511cbd"
      },
      "execution_count": null,
      "outputs": [
        {
          "output_type": "execute_result",
          "data": {
            "text/plain": [
              "MLP_Mixer(\n",
              "  (per_path_FC): Linear(in_features=16, out_features=120, bias=True)\n",
              "  (MLP_Mixer): Sequential(\n",
              "    (0): MLP_Mixer_Block(\n",
              "      (MLP_2): Sequential(\n",
              "        (0): Linear(in_features=120, out_features=64, bias=True)\n",
              "        (1): GELU(approximate='none')\n",
              "        (2): Linear(in_features=64, out_features=120, bias=True)\n",
              "      )\n",
              "      (MLP_1): Sequential(\n",
              "        (0): Linear(in_features=49, out_features=120, bias=True)\n",
              "        (1): GELU(approximate='none')\n",
              "        (2): Linear(in_features=120, out_features=49, bias=True)\n",
              "      )\n",
              "      (layer_norm_1): LayerNorm((120,), eps=1e-05, elementwise_affine=True)\n",
              "      (layer_norm_2): LayerNorm((120,), eps=1e-05, elementwise_affine=True)\n",
              "    )\n",
              "    (1): MLP_Mixer_Block(\n",
              "      (MLP_2): Sequential(\n",
              "        (0): Linear(in_features=120, out_features=64, bias=True)\n",
              "        (1): GELU(approximate='none')\n",
              "        (2): Linear(in_features=64, out_features=120, bias=True)\n",
              "      )\n",
              "      (MLP_1): Sequential(\n",
              "        (0): Linear(in_features=49, out_features=120, bias=True)\n",
              "        (1): GELU(approximate='none')\n",
              "        (2): Linear(in_features=120, out_features=49, bias=True)\n",
              "      )\n",
              "      (layer_norm_1): LayerNorm((120,), eps=1e-05, elementwise_affine=True)\n",
              "      (layer_norm_2): LayerNorm((120,), eps=1e-05, elementwise_affine=True)\n",
              "    )\n",
              "    (2): MLP_Mixer_Block(\n",
              "      (MLP_2): Sequential(\n",
              "        (0): Linear(in_features=120, out_features=64, bias=True)\n",
              "        (1): GELU(approximate='none')\n",
              "        (2): Linear(in_features=64, out_features=120, bias=True)\n",
              "      )\n",
              "      (MLP_1): Sequential(\n",
              "        (0): Linear(in_features=49, out_features=120, bias=True)\n",
              "        (1): GELU(approximate='none')\n",
              "        (2): Linear(in_features=120, out_features=49, bias=True)\n",
              "      )\n",
              "      (layer_norm_1): LayerNorm((120,), eps=1e-05, elementwise_affine=True)\n",
              "      (layer_norm_2): LayerNorm((120,), eps=1e-05, elementwise_affine=True)\n",
              "    )\n",
              "    (3): MLP_Mixer_Block(\n",
              "      (MLP_2): Sequential(\n",
              "        (0): Linear(in_features=120, out_features=64, bias=True)\n",
              "        (1): GELU(approximate='none')\n",
              "        (2): Linear(in_features=64, out_features=120, bias=True)\n",
              "      )\n",
              "      (MLP_1): Sequential(\n",
              "        (0): Linear(in_features=49, out_features=120, bias=True)\n",
              "        (1): GELU(approximate='none')\n",
              "        (2): Linear(in_features=120, out_features=49, bias=True)\n",
              "      )\n",
              "      (layer_norm_1): LayerNorm((120,), eps=1e-05, elementwise_affine=True)\n",
              "      (layer_norm_2): LayerNorm((120,), eps=1e-05, elementwise_affine=True)\n",
              "    )\n",
              "  )\n",
              "  (GAVG): AvgPool1d(kernel_size=(4,), stride=(4,), padding=(0,))\n",
              "  (head): Linear(in_features=1470, out_features=10, bias=True)\n",
              ")"
            ]
          },
          "metadata": {},
          "execution_count": 94
        }
      ]
    },
    {
      "cell_type": "markdown",
      "source": [
        "#`Train LOOPs`"
      ],
      "metadata": {
        "id": "HIhbOm_yPfKc"
      }
    },
    {
      "cell_type": "code",
      "source": [
        "loss_fn = nn.CrossEntropyLoss()\n",
        "opt = torch.optim.Adam(params = model_main.parameters(), lr = 1e-3)"
      ],
      "metadata": {
        "id": "eozoXcs6OEnn"
      },
      "execution_count": null,
      "outputs": []
    },
    {
      "cell_type": "code",
      "source": [
        "def train(data, model, loss_fn, opt):\n",
        "  model.train()\n",
        "  size = len(data.dataset)\n",
        "\n",
        "  for b, (x,y) in enumerate(data):\n",
        "    y_pred = model(x)\n",
        "    loss = loss_fn(y_pred, y)\n",
        "    opt.zero_grad()\n",
        "    loss.backward()\n",
        "    opt.step()\n",
        "\n",
        "\n",
        "    if b % 100 == 0:\n",
        "      print(f\"loss:{loss.item()} size:[{b*len(x)} | {size}]\")"
      ],
      "metadata": {
        "id": "kOWOZJW5PqqL"
      },
      "execution_count": null,
      "outputs": []
    },
    {
      "cell_type": "code",
      "source": [
        "def test(data, model, loss_fn):\n",
        "\n",
        "  model.eval()\n",
        "  size = len(data.dataset)\n",
        "  num_batch = len(data)\n",
        "\n",
        "  test_loss, test_acc = 0,0\n",
        "\n",
        "  with torch.no_grad():\n",
        "    for x,y in data:\n",
        "      y_pred = model(x)\n",
        "      test_loss += loss_fn(y_pred, y).item()\n",
        "      test_acc += (y_pred.argmax(1) == y).type(torch.float).sum().item()\n",
        "\n",
        "    test_loss /= num_batch\n",
        "    test_acc /= size\n",
        "    print(f\"test loss:{test_loss} acc:{test_acc * 100}\")\n"
      ],
      "metadata": {
        "id": "48LFuoMuQJzH"
      },
      "execution_count": null,
      "outputs": []
    },
    {
      "cell_type": "code",
      "source": [
        "for e in range(20):\n",
        "  print(f\"epoch:{e+1}=-=-=-\")\n",
        "  train(train_dl, model_main,loss_fn, opt)\n",
        "  test(test_dl, model_main, loss_fn)"
      ],
      "metadata": {
        "colab": {
          "base_uri": "https://localhost:8080/"
        },
        "id": "O31qjS-WRHAK",
        "outputId": "fba69cf6-317a-498d-a777-2463a3765ee5"
      },
      "execution_count": 98,
      "outputs": [
        {
          "output_type": "stream",
          "name": "stdout",
          "text": [
            "epoch:1=-=-=-\n",
            "loss:2.3597755432128906 size:[0 | 60000]\n",
            "loss:0.4137707054615021 size:[6400 | 60000]\n",
            "loss:0.2078135758638382 size:[12800 | 60000]\n",
            "loss:0.2902889847755432 size:[19200 | 60000]\n",
            "loss:0.18358106911182404 size:[25600 | 60000]\n",
            "loss:0.3197757601737976 size:[32000 | 60000]\n",
            "loss:0.19677212834358215 size:[38400 | 60000]\n",
            "loss:0.045100729912519455 size:[44800 | 60000]\n",
            "loss:0.1297917515039444 size:[51200 | 60000]\n",
            "loss:0.06989997625350952 size:[57600 | 60000]\n",
            "test loss:0.08763586458431966 acc:97.24000000000001\n",
            "epoch:2=-=-=-\n",
            "loss:0.1000906229019165 size:[0 | 60000]\n",
            "loss:0.1139708012342453 size:[6400 | 60000]\n",
            "loss:0.0937158539891243 size:[12800 | 60000]\n",
            "loss:0.1263829618692398 size:[19200 | 60000]\n",
            "loss:0.10794897377490997 size:[25600 | 60000]\n",
            "loss:0.028042208403348923 size:[32000 | 60000]\n",
            "loss:0.06250535696744919 size:[38400 | 60000]\n",
            "loss:0.11699160933494568 size:[44800 | 60000]\n",
            "loss:0.1252858191728592 size:[51200 | 60000]\n",
            "loss:0.11127277463674545 size:[57600 | 60000]\n",
            "test loss:0.07074508183468192 acc:97.54\n",
            "epoch:3=-=-=-\n",
            "loss:0.09391072392463684 size:[0 | 60000]\n",
            "loss:0.030163921415805817 size:[6400 | 60000]\n",
            "loss:0.039258215576410294 size:[12800 | 60000]\n",
            "loss:0.1856175661087036 size:[19200 | 60000]\n",
            "loss:0.006047417875379324 size:[25600 | 60000]\n",
            "loss:0.09706654399633408 size:[32000 | 60000]\n",
            "loss:0.008626535534858704 size:[38400 | 60000]\n",
            "loss:0.07435006648302078 size:[44800 | 60000]\n",
            "loss:0.018207283690571785 size:[51200 | 60000]\n",
            "loss:0.027196280658245087 size:[57600 | 60000]\n",
            "test loss:0.06891227083890195 acc:97.77\n",
            "epoch:4=-=-=-\n",
            "loss:0.07258859276771545 size:[0 | 60000]\n",
            "loss:0.0882965475320816 size:[6400 | 60000]\n",
            "loss:0.027500294148921967 size:[12800 | 60000]\n",
            "loss:0.0426948107779026 size:[19200 | 60000]\n",
            "loss:0.05165793001651764 size:[25600 | 60000]\n",
            "loss:0.0381280891597271 size:[32000 | 60000]\n",
            "loss:0.007306693121790886 size:[38400 | 60000]\n",
            "loss:0.013919084332883358 size:[44800 | 60000]\n",
            "loss:0.02018817327916622 size:[51200 | 60000]\n",
            "loss:0.031888335943222046 size:[57600 | 60000]\n",
            "test loss:0.06615325957042674 acc:97.95\n",
            "epoch:5=-=-=-\n",
            "loss:0.08659811317920685 size:[0 | 60000]\n",
            "loss:0.04935147240757942 size:[6400 | 60000]\n",
            "loss:0.08129296451807022 size:[12800 | 60000]\n",
            "loss:0.054451871663331985 size:[19200 | 60000]\n",
            "loss:0.11357197165489197 size:[25600 | 60000]\n",
            "loss:0.10520251095294952 size:[32000 | 60000]\n",
            "loss:0.22827041149139404 size:[38400 | 60000]\n",
            "loss:0.03944673761725426 size:[44800 | 60000]\n",
            "loss:0.07363510876893997 size:[51200 | 60000]\n",
            "loss:0.0030696995090693235 size:[57600 | 60000]\n",
            "test loss:0.056625181831729786 acc:98.25\n",
            "epoch:6=-=-=-\n",
            "loss:0.10219620913267136 size:[0 | 60000]\n",
            "loss:0.07134318351745605 size:[6400 | 60000]\n",
            "loss:0.051016222685575485 size:[12800 | 60000]\n",
            "loss:0.009798754006624222 size:[19200 | 60000]\n",
            "loss:0.00762459821999073 size:[25600 | 60000]\n",
            "loss:0.0003148638061247766 size:[32000 | 60000]\n",
            "loss:0.006179952062666416 size:[38400 | 60000]\n",
            "loss:0.0012711803428828716 size:[44800 | 60000]\n",
            "loss:0.03259197622537613 size:[51200 | 60000]\n",
            "loss:0.06439153850078583 size:[57600 | 60000]\n",
            "test loss:0.07166339973234134 acc:97.94\n",
            "epoch:7=-=-=-\n",
            "loss:0.006104612722992897 size:[0 | 60000]\n",
            "loss:0.1671646535396576 size:[6400 | 60000]\n",
            "loss:0.0009278188226744533 size:[12800 | 60000]\n",
            "loss:0.07975360006093979 size:[19200 | 60000]\n",
            "loss:0.09623891115188599 size:[25600 | 60000]\n",
            "loss:0.012112065218389034 size:[32000 | 60000]\n",
            "loss:0.0476694330573082 size:[38400 | 60000]\n",
            "loss:0.09823808073997498 size:[44800 | 60000]\n",
            "loss:0.0033688752446323633 size:[51200 | 60000]\n",
            "loss:0.02236573025584221 size:[57600 | 60000]\n",
            "test loss:0.06141230687740497 acc:98.07000000000001\n",
            "epoch:8=-=-=-\n",
            "loss:0.003726250259205699 size:[0 | 60000]\n",
            "loss:0.02968708425760269 size:[6400 | 60000]\n",
            "loss:0.01145221944898367 size:[12800 | 60000]\n",
            "loss:0.133865624666214 size:[19200 | 60000]\n",
            "loss:0.134958416223526 size:[25600 | 60000]\n",
            "loss:0.0011062915436923504 size:[32000 | 60000]\n",
            "loss:0.0030104019679129124 size:[38400 | 60000]\n",
            "loss:0.02067982405424118 size:[44800 | 60000]\n",
            "loss:0.08438735455274582 size:[51200 | 60000]\n",
            "loss:0.02738269232213497 size:[57600 | 60000]\n",
            "test loss:0.07222831310561768 acc:98.03\n",
            "epoch:9=-=-=-\n",
            "loss:0.00033906084718182683 size:[0 | 60000]\n",
            "loss:0.0031971046701073647 size:[6400 | 60000]\n",
            "loss:0.0007904997328296304 size:[12800 | 60000]\n",
            "loss:0.004977981094270945 size:[19200 | 60000]\n",
            "loss:0.022384243085980415 size:[25600 | 60000]\n",
            "loss:0.004829417448490858 size:[32000 | 60000]\n",
            "loss:0.005738326348364353 size:[38400 | 60000]\n",
            "loss:0.013370207510888577 size:[44800 | 60000]\n",
            "loss:0.017386622726917267 size:[51200 | 60000]\n",
            "loss:0.004726712591946125 size:[57600 | 60000]\n",
            "test loss:0.07348438749547087 acc:98.22999999999999\n",
            "epoch:10=-=-=-\n",
            "loss:0.003549807472154498 size:[0 | 60000]\n",
            "loss:0.0055296835489571095 size:[6400 | 60000]\n",
            "loss:0.05982670187950134 size:[12800 | 60000]\n",
            "loss:0.012302746996283531 size:[19200 | 60000]\n",
            "loss:0.003207534085959196 size:[25600 | 60000]\n",
            "loss:0.05591502785682678 size:[32000 | 60000]\n",
            "loss:0.030353203415870667 size:[38400 | 60000]\n",
            "loss:0.00783366709947586 size:[44800 | 60000]\n",
            "loss:0.000576143735088408 size:[51200 | 60000]\n",
            "loss:0.00048428558511659503 size:[57600 | 60000]\n",
            "test loss:0.060212384136764066 acc:98.42\n",
            "epoch:11=-=-=-\n",
            "loss:0.034701112657785416 size:[0 | 60000]\n",
            "loss:0.03401022404432297 size:[6400 | 60000]\n",
            "loss:0.038092244416475296 size:[12800 | 60000]\n",
            "loss:0.015352093614637852 size:[19200 | 60000]\n",
            "loss:0.0003548974054865539 size:[25600 | 60000]\n",
            "loss:5.934363434789702e-05 size:[32000 | 60000]\n",
            "loss:0.010391127318143845 size:[38400 | 60000]\n",
            "loss:0.0009834945667535067 size:[44800 | 60000]\n",
            "loss:0.1292695850133896 size:[51200 | 60000]\n",
            "loss:0.14795365929603577 size:[57600 | 60000]\n",
            "test loss:0.07291389392843815 acc:98.19\n",
            "epoch:12=-=-=-\n",
            "loss:0.017073651775717735 size:[0 | 60000]\n",
            "loss:0.002534098457545042 size:[6400 | 60000]\n",
            "loss:0.08536747097969055 size:[12800 | 60000]\n",
            "loss:0.029609430581331253 size:[19200 | 60000]\n",
            "loss:0.033377211540937424 size:[25600 | 60000]\n",
            "loss:0.06790821999311447 size:[32000 | 60000]\n",
            "loss:0.06879854202270508 size:[38400 | 60000]\n",
            "loss:0.00019688645261339843 size:[44800 | 60000]\n",
            "loss:0.0011704976204782724 size:[51200 | 60000]\n",
            "loss:0.0013425583019852638 size:[57600 | 60000]\n",
            "test loss:0.06718611008090061 acc:98.42\n",
            "epoch:13=-=-=-\n",
            "loss:0.000410414591897279 size:[0 | 60000]\n",
            "loss:0.0005980861023999751 size:[6400 | 60000]\n",
            "loss:0.0011199486907571554 size:[12800 | 60000]\n",
            "loss:0.00046519481111317873 size:[19200 | 60000]\n",
            "loss:0.11378290504217148 size:[25600 | 60000]\n",
            "loss:0.009913075715303421 size:[32000 | 60000]\n",
            "loss:0.010078140534460545 size:[38400 | 60000]\n",
            "loss:0.01138873677700758 size:[44800 | 60000]\n",
            "loss:0.009758751839399338 size:[51200 | 60000]\n",
            "loss:0.06108211353421211 size:[57600 | 60000]\n",
            "test loss:0.08186679197884242 acc:98.24000000000001\n",
            "epoch:14=-=-=-\n",
            "loss:0.00034570571733638644 size:[0 | 60000]\n",
            "loss:0.0008154833340086043 size:[6400 | 60000]\n",
            "loss:0.00014583414304070175 size:[12800 | 60000]\n",
            "loss:0.010472171008586884 size:[19200 | 60000]\n",
            "loss:6.823848525527865e-05 size:[25600 | 60000]\n",
            "loss:0.03403148800134659 size:[32000 | 60000]\n",
            "loss:0.0004664922889787704 size:[38400 | 60000]\n",
            "loss:0.0024560762103646994 size:[44800 | 60000]\n",
            "loss:0.026268547400832176 size:[51200 | 60000]\n",
            "loss:0.011031023226678371 size:[57600 | 60000]\n",
            "test loss:0.07874892237239788 acc:98.22999999999999\n",
            "epoch:15=-=-=-\n",
            "loss:0.015993669629096985 size:[0 | 60000]\n",
            "loss:0.0017722403863444924 size:[6400 | 60000]\n",
            "loss:0.003423996502533555 size:[12800 | 60000]\n",
            "loss:0.08656784892082214 size:[19200 | 60000]\n",
            "loss:3.139745240332559e-05 size:[25600 | 60000]\n",
            "loss:0.13345487415790558 size:[32000 | 60000]\n",
            "loss:0.0013714012457057834 size:[38400 | 60000]\n",
            "loss:0.0668499618768692 size:[44800 | 60000]\n",
            "loss:0.048758525401353836 size:[51200 | 60000]\n",
            "loss:0.00013959813804831356 size:[57600 | 60000]\n",
            "test loss:0.08213585706109153 acc:98.4\n",
            "epoch:16=-=-=-\n",
            "loss:0.009608397260308266 size:[0 | 60000]\n",
            "loss:0.002722813282161951 size:[6400 | 60000]\n",
            "loss:0.022908862680196762 size:[12800 | 60000]\n",
            "loss:0.010881658643484116 size:[19200 | 60000]\n",
            "loss:0.05264445021748543 size:[25600 | 60000]\n",
            "loss:5.299760232446715e-05 size:[32000 | 60000]\n",
            "loss:0.00026482174871489406 size:[38400 | 60000]\n",
            "loss:3.739979774763924e-06 size:[44800 | 60000]\n",
            "loss:0.027852388098835945 size:[51200 | 60000]\n",
            "loss:0.00028076066519133747 size:[57600 | 60000]\n",
            "test loss:0.09772074166091924 acc:98.07000000000001\n",
            "epoch:17=-=-=-\n",
            "loss:0.00017762536299414933 size:[0 | 60000]\n",
            "loss:8.387023262912408e-05 size:[6400 | 60000]\n",
            "loss:0.042309295386075974 size:[12800 | 60000]\n",
            "loss:0.004641749896109104 size:[19200 | 60000]\n",
            "loss:0.19133934378623962 size:[25600 | 60000]\n",
            "loss:0.17140939831733704 size:[32000 | 60000]\n",
            "loss:0.0051717436872422695 size:[38400 | 60000]\n",
            "loss:0.004105313681066036 size:[44800 | 60000]\n",
            "loss:0.0004154651251155883 size:[51200 | 60000]\n",
            "loss:0.12242534011602402 size:[57600 | 60000]\n",
            "test loss:0.07920322163744455 acc:98.44000000000001\n",
            "epoch:18=-=-=-\n",
            "loss:0.001235969946719706 size:[0 | 60000]\n",
            "loss:0.011221365071833134 size:[6400 | 60000]\n",
            "loss:0.0001195953373098746 size:[12800 | 60000]\n",
            "loss:0.00043994816951453686 size:[19200 | 60000]\n",
            "loss:0.00737348897382617 size:[25600 | 60000]\n",
            "loss:0.0002527399337850511 size:[32000 | 60000]\n",
            "loss:0.0031585681717842817 size:[38400 | 60000]\n",
            "loss:0.029955320060253143 size:[44800 | 60000]\n",
            "loss:0.00023512069310527295 size:[51200 | 60000]\n",
            "loss:4.662965875468217e-05 size:[57600 | 60000]\n",
            "test loss:0.09883607630460892 acc:98.34\n",
            "epoch:19=-=-=-\n",
            "loss:6.280334491748363e-05 size:[0 | 60000]\n",
            "loss:0.023570584133267403 size:[6400 | 60000]\n",
            "loss:0.0017106017330661416 size:[12800 | 60000]\n",
            "loss:0.0021462419535964727 size:[19200 | 60000]\n",
            "loss:0.0038916300982236862 size:[25600 | 60000]\n",
            "loss:0.06426417082548141 size:[32000 | 60000]\n",
            "loss:0.014653942547738552 size:[38400 | 60000]\n",
            "loss:0.023540958762168884 size:[44800 | 60000]\n",
            "loss:4.826848453376442e-05 size:[51200 | 60000]\n",
            "loss:5.103613602841506e-07 size:[57600 | 60000]\n",
            "test loss:0.10054427216557371 acc:98.33\n",
            "epoch:20=-=-=-\n",
            "loss:0.012363007292151451 size:[0 | 60000]\n",
            "loss:3.363643600096111e-06 size:[6400 | 60000]\n",
            "loss:1.4224922779249027e-05 size:[12800 | 60000]\n",
            "loss:0.00014431834279093891 size:[19200 | 60000]\n",
            "loss:0.007424521259963512 size:[25600 | 60000]\n",
            "loss:0.005961180664598942 size:[32000 | 60000]\n",
            "loss:0.0031300880946218967 size:[38400 | 60000]\n",
            "loss:0.00010573966574156657 size:[44800 | 60000]\n",
            "loss:0.017308486625552177 size:[51200 | 60000]\n",
            "loss:0.0015777217922732234 size:[57600 | 60000]\n",
            "test loss:0.0939801029226194 acc:98.22\n"
          ]
        }
      ]
    },
    {
      "cell_type": "code",
      "source": [
        "test_dl = DataLoader(dataset = test_ds, batch_size = 2000)"
      ],
      "metadata": {
        "id": "R33jgc9Rf8WM"
      },
      "execution_count": 104,
      "outputs": []
    },
    {
      "cell_type": "code",
      "source": [
        "x_test,y_test = next(iter(test_dl))\n",
        "y_pred = model_main(x_test)"
      ],
      "metadata": {
        "id": "N32e7iSGfpgr"
      },
      "execution_count": 105,
      "outputs": []
    },
    {
      "cell_type": "code",
      "source": [
        "mt = confusion_matrix(y_test.numpy(), y_pred.argmax(1).numpy())\n",
        "ConfusionMatrixDisplay(mt).plot()"
      ],
      "metadata": {
        "id": "HzhELbAMRUZO",
        "colab": {
          "base_uri": "https://localhost:8080/",
          "height": 467
        },
        "outputId": "f4f4b325-71d6-4a99-804a-68cc7e1c1544"
      },
      "execution_count": 106,
      "outputs": [
        {
          "output_type": "execute_result",
          "data": {
            "text/plain": [
              "<sklearn.metrics._plot.confusion_matrix.ConfusionMatrixDisplay at 0x7ddee3f1cfd0>"
            ]
          },
          "metadata": {},
          "execution_count": 106
        },
        {
          "output_type": "display_data",
          "data": {
            "text/plain": [
              "<Figure size 640x480 with 2 Axes>"
            ],
            "image/png": "[encoded data removed]"
          },
          "metadata": {}
        }
      ]
    },
    {
      "cell_type": "code",
      "source": [],
      "metadata": {
        "id": "Wg9YFqaPf57J"
      },
      "execution_count": null,
      "outputs": []
    }
  ]
}